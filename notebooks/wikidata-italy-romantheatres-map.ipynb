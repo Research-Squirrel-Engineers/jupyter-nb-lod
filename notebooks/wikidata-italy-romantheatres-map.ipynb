{
 "cells": [
  {
   "cell_type": "markdown",
   "metadata": {},
   "source": [
    "# Wikidata Archaeological Sites (Roman theatres) in Italy as Map"
   ]
  },
  {
   "cell_type": "markdown",
   "metadata": {},
   "source": [
    "This notebook fetches archaeological sites using a SPARQL query from Wikidata and creates maps."
   ]
  },
  {
   "cell_type": "markdown",
   "metadata": {},
   "source": [
    "## Define SPARQL query service"
   ]
  },
  {
   "cell_type": "code",
   "execution_count": 15,
   "metadata": {},
   "outputs": [],
   "source": [
    "import os\n",
    "from SPARQLWrapper import SPARQLWrapper, JSON\n",
    "import pandas as pd\n",
    "import geopandas as gpd\n",
    "import matplotlib.pyplot as plt\n",
    "from shapely.geometry import Point\n",
    "import contextily as ctx  # For adding OpenStreetMap basemaps\n",
    "from matplotlib.patches import Patch\n",
    "from scipy.stats import gaussian_kde\n",
    "import numpy as np\n",
    "\n",
    "def querySparql(query):\n",
    "    sparql = SPARQLWrapper(\"https://query.wikidata.org/sparql\")\n",
    "    sparql.setQuery(query)\n",
    "    sparql.setReturnFormat(JSON)\n",
    "    results = sparql.queryAndConvert()\n",
    "    return results['results']['bindings']"
   ]
  },
  {
   "cell_type": "markdown",
   "metadata": {},
   "source": [
    "## Define the SPARQL Query"
   ]
  },
  {
   "cell_type": "code",
   "execution_count": null,
   "metadata": {},
   "outputs": [],
   "source": [
    "# SPARQL Query\n",
    "sitesQuery = \"\"\"\n",
    "SELECT DISTINCT ?item ?itemLabel ?geo ?img WHERE {\n",
    " ?item (wdt:P31/(wdt:P279*)) wd:Q839954.\n",
    " ?item wdt:P31 wd:Q19757.\n",
    " ?item wdt:P17 wd:Q38.\n",
    " ?item wdt:P625 ?geo.\n",
    " OPTIONAL { ?item wdt:P18 ?img }\n",
    " SERVICE wikibase:label { bd:serviceParam wikibase:language \"en\". }\n",
    "}\n",
    "\"\"\""
   ]
  },
  {
   "cell_type": "markdown",
   "metadata": {},
   "source": [
    "## Fetch Data and Convert to DataFrame"
   ]
  },
  {
   "cell_type": "code",
   "execution_count": null,
   "metadata": {},
   "outputs": [],
   "source": [
    "# Fetch data using the SPARQL query\n",
    "sparql_results = querySparql(sitesQuery)\n",
    "\n",
    "# Convert SPARQL JSON results into a DataFrame\n",
    "data = []\n",
    "for result in sparql_results:\n",
    "    geo = result['geo']['value'] if 'geo' in result else None\n",
    "    lat, lon = (None, None)\n",
    "    if geo:\n",
    "        lon, lat = map(float, geo.replace(\"Point(\", \"\").replace(\")\", \"\").split())\n",
    "    data.append({\n",
    "        \"item\": result['item']['value'],\n",
    "        \"itemLabel\": result['itemLabel']['value'],\n",
    "        \"latitude\": lat,\n",
    "        \"longitude\": lon,\n",
    "    })\n",
    "\n",
    "df = pd.DataFrame(data)\n",
    "df"
   ]
  },
  {
   "cell_type": "markdown",
   "metadata": {},
   "source": [
    "## Visualise the Data in a map"
   ]
  },
  {
   "cell_type": "code",
   "execution_count": null,
   "metadata": {},
   "outputs": [],
   "source": [
    "# Check if DataFrame is populated\n",
    "if df.empty:\n",
    "    print(\"No data retrieved from the query.\")\n",
    "else:\n",
    "    # Filter rows with valid coordinates\n",
    "    df_with_coords = df.dropna(subset=['latitude', 'longitude'])\n",
    "\n",
    "    # Create a GeoDataFrame\n",
    "    gdf = gpd.GeoDataFrame(\n",
    "        df_with_coords,\n",
    "        geometry=[Point(xy) for xy in zip(df_with_coords['longitude'], df_with_coords['latitude'])],\n",
    "        crs=\"EPSG:4326\"\n",
    "    )\n",
    "\n",
    "    # Convert to Web Mercator for OSM basemap\n",
    "    gdf_mercator = gdf.to_crs(epsg=3857)\n",
    "\n",
    "    # Plot points on the map\n",
    "    fig, ax = plt.subplots(figsize=(12, 8))\n",
    "    gdf_mercator.plot(ax=ax, color='red', markersize=50, alpha=0.7, label=\"Roman Theatres\")\n",
    "    \n",
    "    # Add OSM basemap\n",
    "    ctx.add_basemap(ax, source=ctx.providers.OpenStreetMap.Mapnik)\n",
    "    \n",
    "    ax.set_axis_off()\n",
    "    plt.title(\"Map of Roman theatres in Italy\")\n",
    "    plt.legend()\n",
    "    plt.show()"
   ]
  }
 ],
 "metadata": {
  "kernelspec": {
   "display_name": "Python 3",
   "language": "python",
   "name": "python3"
  },
  "language_info": {
   "codemirror_mode": {
    "name": "ipython",
    "version": 3
   },
   "file_extension": ".py",
   "mimetype": "text/x-python",
   "name": "python",
   "nbconvert_exporter": "python",
   "pygments_lexer": "ipython3",
   "version": "3.10.2"
  }
 },
 "nbformat": 4,
 "nbformat_minor": 2
}
