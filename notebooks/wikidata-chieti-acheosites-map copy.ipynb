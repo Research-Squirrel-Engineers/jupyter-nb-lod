{
 "cells": [
  {
   "cell_type": "markdown",
   "metadata": {},
   "source": [
    "# fuzzy-sl Wikibase Archaeological Sites from the Silver Coinage of Cronon as Map"
   ]
  },
  {
   "cell_type": "markdown",
   "metadata": {},
   "source": [
    "This notebook fetches archaeological sites using a SPARQL query from the fuzzy-sl Wikibase and creates maps."
   ]
  },
  {
   "cell_type": "markdown",
   "metadata": {},
   "source": [
    "## Define SPARQL query service"
   ]
  },
  {
   "cell_type": "code",
   "execution_count": 23,
   "metadata": {},
   "outputs": [],
   "source": [
    "import os\n",
    "from SPARQLWrapper import SPARQLWrapper, JSON\n",
    "import pandas as pd\n",
    "import geopandas as gpd\n",
    "import matplotlib.pyplot as plt\n",
    "from shapely.geometry import Point\n",
    "import contextily as ctx\n",
    "from matplotlib.patches import Patch\n",
    "from scipy.stats import gaussian_kde\n",
    "import numpy as np\n",
    "\n",
    "def querySparql(query):\n",
    "    sparql = SPARQLWrapper(\"https://fuzzy-sl.wikibase.cloud/query/sparql\")\n",
    "    sparql.setQuery(query)\n",
    "    sparql.setReturnFormat(JSON)\n",
    "    results = sparql.queryAndConvert()\n",
    "    return results['results']['bindings']"
   ]
  },
  {
   "cell_type": "markdown",
   "metadata": {},
   "source": [
    "## Define the SPARQL Query"
   ]
  },
  {
   "cell_type": "code",
   "execution_count": 24,
   "metadata": {},
   "outputs": [],
   "source": [
    "# SPARQL Query\n",
    "sitesQuery = \"\"\"\n",
    "PREFIX fslwd: <https://fuzzy-sl.wikibase.cloud/entity/>\n",
    "PREFIX fslwdt: <https://fuzzy-sl.wikibase.cloud/prop/direct/>\n",
    "PREFIX fslpq: <https://fuzzy-sl.wikibase.cloud/prop/qualifier/>\n",
    "\n",
    "SELECT ?item ?itemLabel ?geo WHERE { \n",
    "  ?item fslwdt:P1 fslwd:Q10 .\n",
    "  ?item fslwdt:P3 fslwd:Q14 .\n",
    "  ?item fslwdt:P4 ?geo .\n",
    "  SERVICE wikibase:label { bd:serviceParam wikibase:language \"[AUTO_LANGUAGE],en\". } \n",
    "}\n",
    "\"\"\""
   ]
  },
  {
   "cell_type": "markdown",
   "metadata": {},
   "source": [
    "## Fetch Data and Convert to DataFrame"
   ]
  },
  {
   "cell_type": "code",
   "execution_count": 25,
   "metadata": {},
   "outputs": [
    {
     "data": {
      "text/html": [
       "<div>\n",
       "<style scoped>\n",
       "    .dataframe tbody tr th:only-of-type {\n",
       "        vertical-align: middle;\n",
       "    }\n",
       "\n",
       "    .dataframe tbody tr th {\n",
       "        vertical-align: top;\n",
       "    }\n",
       "\n",
       "    .dataframe thead th {\n",
       "        text-align: right;\n",
       "    }\n",
       "</style>\n",
       "<table border=\"1\" class=\"dataframe\">\n",
       "  <thead>\n",
       "    <tr style=\"text-align: right;\">\n",
       "      <th></th>\n",
       "    </tr>\n",
       "  </thead>\n",
       "  <tbody>\n",
       "  </tbody>\n",
       "</table>\n",
       "</div>"
      ],
      "text/plain": [
       "Empty DataFrame\n",
       "Columns: []\n",
       "Index: []"
      ]
     },
     "execution_count": 25,
     "metadata": {},
     "output_type": "execute_result"
    }
   ],
   "source": [
    "# Fetch data using the SPARQL query\n",
    "sparql_results = querySparql(sitesQuery)\n",
    "\n",
    "# Convert SPARQL JSON results into a DataFrame\n",
    "data = []\n",
    "for result in sparql_results:\n",
    "    geo = result['geo']['value'] if 'geo' in result else None\n",
    "    lat, lon = (None, None)\n",
    "    if geo:\n",
    "        lon, lat = map(float, geo.replace(\"Point(\", \"\").replace(\")\", \"\").split())\n",
    "    data.append({\n",
    "        \"item\": result['item']['value'],\n",
    "        \"itemLabel\": result['itemLabel']['value'],\n",
    "        \"latitude\": lat,\n",
    "        \"longitude\": lon,\n",
    "    })\n",
    "\n",
    "df = pd.DataFrame(data)\n",
    "df"
   ]
  },
  {
   "cell_type": "markdown",
   "metadata": {},
   "source": [
    "## Visualise the Data in a map"
   ]
  },
  {
   "cell_type": "code",
   "execution_count": 26,
   "metadata": {},
   "outputs": [
    {
     "name": "stdout",
     "output_type": "stream",
     "text": [
      "No data retrieved from the query.\n"
     ]
    }
   ],
   "source": [
    "# Check if DataFrame is populated\n",
    "if df.empty:\n",
    "    print(\"No data retrieved from the query.\")\n",
    "else:\n",
    "    # Filter rows with valid coordinates\n",
    "    df_with_coords = df.dropna(subset=['latitude', 'longitude'])\n",
    "\n",
    "    # Create a GeoDataFrame\n",
    "    gdf = gpd.GeoDataFrame(\n",
    "        df_with_coords,\n",
    "        geometry=[Point(xy) for xy in zip(df_with_coords['longitude'], df_with_coords['latitude'])],\n",
    "        crs=\"EPSG:4326\"\n",
    "    )\n",
    "\n",
    "    # Convert to Web Mercator for OSM basemap\n",
    "    gdf_mercator = gdf.to_crs(epsg=3857)\n",
    "\n",
    "    # Plot points on the map\n",
    "    fig, ax = plt.subplots(figsize=(12, 8))\n",
    "    gdf_mercator.plot(ax=ax, color='red', markersize=50, alpha=0.7, label=\"archaeological sites\")\n",
    "    \n",
    "    # Add OSM basemap\n",
    "    ctx.add_basemap(ax, source=ctx.providers.OpenStreetMap.Mapnik)\n",
    "    \n",
    "    ax.set_axis_off()\n",
    "    plt.title(\"Map of archaeological sites in Chieti\")\n",
    "    plt.legend()\n",
    "    plt.show()"
   ]
  }
 ],
 "metadata": {
  "kernelspec": {
   "display_name": "Python 3",
   "language": "python",
   "name": "python3"
  },
  "language_info": {
   "codemirror_mode": {
    "name": "ipython",
    "version": 3
   },
   "file_extension": ".py",
   "mimetype": "text/x-python",
   "name": "python",
   "nbconvert_exporter": "python",
   "pygments_lexer": "ipython3",
   "version": "3.10.2"
  }
 },
 "nbformat": 4,
 "nbformat_minor": 2
}
