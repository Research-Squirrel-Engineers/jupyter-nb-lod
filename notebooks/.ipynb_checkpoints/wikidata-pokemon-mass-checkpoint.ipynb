{
 "cells": [
  {
   "cell_type": "markdown",
   "id": "ab0750c7",
   "metadata": {},
   "source": [
    "# Pokémon Yellow Scatter Plot"
   ]
  },
  {
   "cell_type": "markdown",
   "id": "6801699d",
   "metadata": {},
   "source": [
    "This notebook fetches Pokémon data using a SPARQL query from Wikidata and creates a scatter plot showing only the yellow Pokémon, displaying their mass on the x-axis and their labels on the y-axis."
   ]
  },
  {
   "cell_type": "code",
   "execution_count": null,
   "id": "d18c064d",
   "metadata": {},
   "outputs": [],
   "source": [
    "\n",
    "from SPARQLWrapper import SPARQLWrapper, JSON\n",
    "import pandas as pd\n",
    "import matplotlib.pyplot as plt\n",
    "\n",
    "def querySparql(query):\n",
    "    sparql = SPARQLWrapper(\"https://query.wikidata.org/sparql\")\n",
    "    sparql.setQuery(query)\n",
    "    sparql.setReturnFormat(JSON)\n",
    "    results = sparql.queryAndConvert()\n",
    "    return results['results']['bindings']\n",
    "    "
   ]
  },
  {
   "cell_type": "markdown",
   "id": "8c3a1f55",
   "metadata": {},
   "source": [
    "## Define the SPARQL Query"
   ]
  },
  {
   "cell_type": "code",
   "execution_count": null,
   "id": "6d97c8d3",
   "metadata": {},
   "outputs": [],
   "source": [
    "\n",
    "pokemonQuery = \"\"\"\n",
    "SELECT DISTINCT ?pokemon ?pokemonLabel ?pokedexNumber ?color ?colorLabel ?mass\n",
    "WHERE\n",
    "{\n",
    "    ?pokemon wdt:P31/wdt:P279* wd:Q3966183 .\n",
    "    ?pokemon p:P1685 ?statement.\n",
    "    ?pokemon wdt:P462 ?color.\n",
    "    ?pokemon wdt:P2067 ?mass. \n",
    "    ?statement ps:P1685 ?pokedexNumber;\n",
    "              pq:P972 wd:Q20005020.\n",
    "    FILTER ( !isBLANK(?pokedexNumber) ) .\n",
    "    SERVICE wikibase:label { bd:serviceParam wikibase:language \"en\" }\n",
    "}\n",
    "ORDER BY (?pokedexNumber)\n",
    "\"\"\"\n",
    "    "
   ]
  },
  {
   "cell_type": "markdown",
   "id": "6562e509",
   "metadata": {},
   "source": [
    "## Fetch Data and Convert to DataFrame"
   ]
  },
  {
   "cell_type": "code",
   "execution_count": null,
   "id": "a7d88346",
   "metadata": {},
   "outputs": [],
   "source": [
    "\n",
    "# Fetch data using the SPARQL query\n",
    "sparql_results = querySparql(pokemonQuery)\n",
    "\n",
    "# Convert SPARQL JSON results into a DataFrame\n",
    "data = []\n",
    "for result in sparql_results:\n",
    "    data.append({\n",
    "        \"pokemon\": result['pokemon']['value'],\n",
    "        \"pokemonLabel\": result['pokemonLabel']['value'],\n",
    "        \"pokedexNumber\": int(result['pokedexNumber']['value']),\n",
    "        \"color\": result['color']['value'],\n",
    "        \"colorLabel\": result['colorLabel']['value'],\n",
    "        \"mass\": float(result['mass']['value']),\n",
    "    })\n",
    "\n",
    "# Create a DataFrame\n",
    "df = pd.DataFrame(data)\n",
    "df\n",
    "    "
   ]
  },
  {
   "cell_type": "markdown",
   "id": "7590f0b0",
   "metadata": {},
   "source": [
    "## Scatter Plot for Yellow Pokémon"
   ]
  },
  {
   "cell_type": "code",
   "execution_count": null,
   "id": "75c50f82",
   "metadata": {},
   "outputs": [],
   "source": [
    "\n",
    "# Check if DataFrame is populated\n",
    "if df.empty:\n",
    "    print(\"No data retrieved from the query.\")\n",
    "else:\n",
    "    # Scatter plot: Yellow Pokémon Mass vs. Pokémon Labels\n",
    "    yellow_pokemon = df[df['colorLabel'].str.lower() == \"yellow\"]  # Filter yellow Pokémon\n",
    "    plt.figure(figsize=(12, 8))\n",
    "    plt.scatter(yellow_pokemon['mass'], yellow_pokemon['pokemonLabel'], color=\"yellow\", alpha=0.8, edgecolors=\"black\")\n",
    "    plt.title(\"Scatter Plot: Yellow Pokémon Mass vs. Pokémon\")\n",
    "    plt.xlabel(\"Mass (kg)\")\n",
    "    plt.ylabel(\"Pokémon\")\n",
    "    plt.grid(True, linestyle=\"--\", alpha=0.6)\n",
    "    plt.tight_layout()\n",
    "    plt.show()\n",
    "    "
   ]
  }
 ],
 "metadata": {},
 "nbformat": 4,
 "nbformat_minor": 5
}
