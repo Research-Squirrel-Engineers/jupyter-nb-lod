{
 "cells": [
  {
   "cell_type": "markdown",
   "id": "203b9382",
   "metadata": {},
   "source": [
    "# Pokémon Color Distribution Visualization"
   ]
  },
  {
   "cell_type": "markdown",
   "id": "507d1734",
   "metadata": {},
   "source": [
    "This notebook fetches Pokémon data using a SPARQL query from Wikidata and creates a bar chart showing the distribution of Pokémon by color. The bars are colored according to the Pokémon colors, and white bars have a distinct black border for better visibility."
   ]
  },
  {
   "cell_type": "code",
   "execution_count": null,
   "id": "b765690a",
   "metadata": {},
   "outputs": [],
   "source": [
    "\n",
    "from SPARQLWrapper import SPARQLWrapper, JSON\n",
    "import pandas as pd\n",
    "import matplotlib.pyplot as plt\n",
    "\n",
    "def querySparql(query):\n",
    "    sparql = SPARQLWrapper(\"https://query.wikidata.org/sparql\")\n",
    "    sparql.setQuery(query)\n",
    "    sparql.setReturnFormat(JSON)\n",
    "    results = sparql.queryAndConvert()\n",
    "    return results['results']['bindings']\n",
    "    "
   ]
  },
  {
   "cell_type": "markdown",
   "id": "e8c74fac",
   "metadata": {},
   "source": [
    "## Define the SPARQL Query"
   ]
  },
  {
   "cell_type": "code",
   "execution_count": null,
   "id": "695ba0bb",
   "metadata": {},
   "outputs": [],
   "source": [
    "\n",
    "pokemonQuery = \"\"\"\n",
    "SELECT DISTINCT ?pokemon ?pokemonLabel ?pokedexNumber ?color ?colorLabel\n",
    "WHERE\n",
    "{\n",
    "    ?pokemon wdt:P31/wdt:P279* wd:Q3966183 .\n",
    "    ?pokemon p:P1685 ?statement.\n",
    "    ?pokemon wdt:P462 ?color.\n",
    "    ?statement ps:P1685 ?pokedexNumber;\n",
    "              pq:P972 wd:Q20005020.\n",
    "    FILTER ( !isBLANK(?pokedexNumber) ) .\n",
    "    SERVICE wikibase:label { bd:serviceParam wikibase:language \"en\" }\n",
    "}\n",
    "ORDER BY (?pokedexNumber)\n",
    "\"\"\"\n",
    "    "
   ]
  },
  {
   "cell_type": "markdown",
   "id": "906544a6",
   "metadata": {},
   "source": [
    "## Fetch Data and Convert to DataFrame"
   ]
  },
  {
   "cell_type": "code",
   "execution_count": null,
   "id": "d0f4dbb6",
   "metadata": {},
   "outputs": [],
   "source": [
    "\n",
    "# Fetch data using the SPARQL query\n",
    "sparql_results = querySparql(pokemonQuery)\n",
    "\n",
    "# Convert SPARQL JSON results into a DataFrame\n",
    "data = []\n",
    "for result in sparql_results:\n",
    "    data.append({\n",
    "        \"pokemon\": result['pokemon']['value'],\n",
    "        \"pokemonLabel\": result['pokemonLabel']['value'],\n",
    "        \"pokedexNumber\": int(result['pokedexNumber']['value']),\n",
    "        \"color\": result['color']['value'],\n",
    "        \"colorLabel\": result['colorLabel']['value'],\n",
    "    })\n",
    "\n",
    "# Create a DataFrame\n",
    "df = pd.DataFrame(data)\n",
    "df\n",
    "    "
   ]
  },
  {
   "cell_type": "markdown",
   "id": "547398b6",
   "metadata": {},
   "source": [
    "## Visualize the Data with a Bar Chart"
   ]
  },
  {
   "cell_type": "code",
   "execution_count": null,
   "id": "107cddf0",
   "metadata": {},
   "outputs": [],
   "source": [
    "\n",
    "# Check if DataFrame is populated\n",
    "if df.empty:\n",
    "    print(\"No data retrieved from the query.\")\n",
    "else:\n",
    "    # Bar chart: Count Pokémon by color\n",
    "    color_counts = df['colorLabel'].value_counts()\n",
    "\n",
    "    # Map color labels to actual colors\n",
    "    color_mapping = {\n",
    "        \"red\": \"red\",\n",
    "        \"blue\": \"blue\",\n",
    "        \"green\": \"green\",\n",
    "        \"yellow\": \"yellow\",\n",
    "        \"purple\": \"purple\",\n",
    "        \"pink\": \"pink\",\n",
    "        \"brown\": \"brown\",\n",
    "        \"white\": \"white\",\n",
    "        \"black\": \"black\",\n",
    "        \"gray\": \"gray\",\n",
    "    }\n",
    "\n",
    "    # Create a list of bar colors based on the color labels\n",
    "    bar_colors = [color_mapping.get(color.lower(), \"gray\") for color in color_counts.index]\n",
    "\n",
    "    # Plot the bar chart with black edges\n",
    "    plt.figure(figsize=(10, 6))\n",
    "    bars = plt.bar(\n",
    "        color_counts.index, \n",
    "        color_counts.values, \n",
    "        color=bar_colors, \n",
    "        edgecolor=\"black\",  # Add black border\n",
    "        linewidth=1.5      # Adjust border thickness\n",
    "    )\n",
    "    \n",
    "    # Customize the white bar to ensure visibility\n",
    "    for bar, color in zip(bars, bar_colors):\n",
    "        if color == \"white\":\n",
    "            bar.set_edgecolor(\"black\")\n",
    "            bar.set_linewidth(2)\n",
    "\n",
    "    plt.title(\"Distribution of Pokémon by Color\")\n",
    "    plt.xlabel(\"Color\")\n",
    "    plt.ylabel(\"Number of Pokémon\")\n",
    "    plt.xticks(rotation=45)\n",
    "    plt.tight_layout()\n",
    "    plt.show()\n",
    "    "
   ]
  }
 ],
 "metadata": {},
 "nbformat": 4,
 "nbformat_minor": 5
}
