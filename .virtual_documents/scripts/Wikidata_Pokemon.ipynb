


from SPARQLWrapper import SPARQLWrapper, JSON, XML
import pandas as pd


def querySparql(query):
    sparql = SPARQLWrapper("https://query.wikidata.org/sparql")
    sparql.setQuery(query)
    sparql.setReturnFormat(JSON)
    results = sparql.queryAndConvert()
    return results['results']['bindings']


pokemonQuery = """
SELECT DISTINCT ?pokemon ?pokemonLabel ?pokedexNumber
WHERE
{
    ?pokemon wdt:P31/wdt:P279* wd:Q3966183 .
    ?pokemon p:P1685 ?statement.
    ?statement ps:P1685 ?pokedexNumber;
              pq:P972 wd:Q20005020.
    FILTER ( !isBLANK(?pokedexNumber) ) .
    SERVICE wikibase:label { bd:serviceParam wikibase:language "[AUTO_LANGUAGE],en" }
}
ORDER BY (?pokedexNumber)
"""


pokemonResult = querySparql(pokemonQuery)
pokemonResult


pokemon = []
for p in pokemonResult:
    mon = {
        'wikidata_item': p['pokemon']['value'].replace('http://www.wikidata.org/entity/', ''),
        'pokemon_name': p['pokemonLabel']['value'],
        'pokedex_number': p['pokedexNumber']['value'],
    }
    pokemon.append(mon)

pd.DataFrame(pokemon)



